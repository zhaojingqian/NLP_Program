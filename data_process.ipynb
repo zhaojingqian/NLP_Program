{
 "cells": [
  {
   "cell_type": "code",
   "execution_count": 1,
   "metadata": {},
   "outputs": [],
   "source": [
    "# 共产党， 董事长， 毛泽东， 习近平"
   ]
  },
  {
   "cell_type": "code",
   "execution_count": 2,
   "metadata": {},
   "outputs": [
    {
     "name": "stderr",
     "output_type": "stream",
     "text": [
      "2023-12-18 12:04:53.662531: I tensorflow/core/platform/cpu_feature_guard.cc:182] This TensorFlow binary is optimized to use available CPU instructions in performance-critical operations.\n",
      "To enable the following instructions: AVX2 AVX512F FMA, in other operations, rebuild TensorFlow with the appropriate compiler flags.\n",
      "2023-12-18 12:04:54.360165: W tensorflow/compiler/tf2tensorrt/utils/py_utils.cc:38] TF-TRT Warning: Could not find TensorRT\n"
     ]
    }
   ],
   "source": [
    "from utils.evaluate import Eval\n",
    "from utils.config import *\n",
    "from utils.data_utils import *"
   ]
  },
  {
   "cell_type": "code",
   "execution_count": 3,
   "metadata": {},
   "outputs": [],
   "source": [
    "data_pro = False\n",
    "if data_pro:\n",
    "    set_random_seed(3407) # seed everything\n",
    "    preprocess_pickle_file()  # 生成全局变量索引pickle文件\n",
    "    preprocess_tsv_file()  # 生成模型训练、验证、推断所需的tsv文件"
   ]
  },
  {
   "cell_type": "code",
   "execution_count": 4,
   "metadata": {},
   "outputs": [],
   "source": [
    "gen_dataloader = False\n",
    "if gen_dataloader:\n",
    "    read_pickle() # 读取全局变量索引pickle文件\n",
    "    generate_feature_pickle() # 生成特征pickle文件"
   ]
  },
  {
   "cell_type": "code",
   "execution_count": 5,
   "metadata": {},
   "outputs": [],
   "source": [
    "# training\n",
    "train_EL = False\n",
    "if train_EL:\n",
    "    train_entity_linking_model(f'{PRETRAINED_PATH}_EL_EPOCH12.ckpt')\n",
    "    generate_link_tsv_result(f'{PRETRAINED_PATH}_EL_EPOCH12.ckpt')"
   ]
  },
  {
   "cell_type": "code",
   "execution_count": 6,
   "metadata": {},
   "outputs": [],
   "source": [
    "train_ET = False\n",
    "if train_ET:\n",
    "    read_pickle() # 读取全局变量索引pickle文件\n",
    "    # train_entity_typing_model(f'{PRETRAINED_PATH}_ET_EPOCH12.ckpt')\n",
    "    generate_type_tsv_result(f'{PRETRAINED_PATH}_ET_EPOCH12.ckpt')"
   ]
  },
  {
   "cell_type": "code",
   "execution_count": 7,
   "metadata": {},
   "outputs": [
    {
     "name": "stdout",
     "output_type": "stream",
     "text": [
      "make_predication_result .......\n"
     ]
    },
    {
     "name": "stderr",
     "output_type": "stream",
     "text": [
      "9993it [16:01, 10.39it/s]\n"
     ]
    }
   ],
   "source": [
    "gen_pred = True\n",
    "if gen_pred:\n",
    "    read_pickle()\n",
    "    # make_predication_result('dev.json', 'valid_result.json', 'EL_VALID_RESULT.tsv', 'ET_VALID_RESULT.tsv')\n",
    "    # 测试\n",
    "    make_predication_result('test.json', 'test_result.json', 'EL_TEST_RESULT.tsv', 'ET_TEST_RESULT.tsv')"
   ]
  },
  {
   "cell_type": "code",
   "execution_count": 8,
   "metadata": {},
   "outputs": [],
   "source": [
    "\n",
    "# 0: 86.5\n",
    "# -1: 87.5\n",
    "# -2: 88\n",
    "# -2.5: 88.2"
   ]
  },
  {
   "cell_type": "code",
   "execution_count": 9,
   "metadata": {},
   "outputs": [
    {
     "name": "stdout",
     "output_type": "stream",
     "text": [
      "0.8817575757575757 0.8817575757575757 0.8817575757575757\n"
     ]
    }
   ],
   "source": [
    "eval = Eval('./data/dev.json', './data/result/valid_result.json')\n",
    "\n",
    "prec, recall, f1 = eval.micro_f1()\n",
    "print(prec, recall, f1)\n",
    "if eval.errno:\n",
    "    print(eval.errno)"
   ]
  }
 ],
 "metadata": {
  "kernelspec": {
   "display_name": "nlp",
   "language": "python",
   "name": "python3"
  },
  "language_info": {
   "codemirror_mode": {
    "name": "ipython",
    "version": 3
   },
   "file_extension": ".py",
   "mimetype": "text/x-python",
   "name": "python",
   "nbconvert_exporter": "python",
   "pygments_lexer": "ipython3",
   "version": "3.9.15"
  }
 },
 "nbformat": 4,
 "nbformat_minor": 2
}
