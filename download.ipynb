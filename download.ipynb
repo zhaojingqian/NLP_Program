{
 "cells": [
  {
   "cell_type": "code",
   "execution_count": 1,
   "metadata": {},
   "outputs": [],
   "source": [
    "import os\n",
    "import shutil\n",
    "from huggingface_hub import snapshot_download"
   ]
  },
  {
   "cell_type": "code",
   "execution_count": 2,
   "metadata": {},
   "outputs": [],
   "source": [
    "os.environ['http_proxy'] ='http://127.0.0.1:7890'\n",
    "os.environ['https_proxy'] = \"http://127.0.0.1:7890\""
   ]
  },
  {
   "cell_type": "code",
   "execution_count": 3,
   "metadata": {},
   "outputs": [],
   "source": [
    "def copy_data(source_directory,target_directory):\n",
    "  # 遍历源目录中的所有文件和目录\n",
    "  for entry in os.listdir(source_directory):\n",
    "      entry_path = os.path.join(source_directory, entry)\n",
    "      # 检查是否为符号链接\n",
    "      if os.path.islink(entry_path):\n",
    "          # 获取符号链接的目标路径\n",
    "          print(entry_path)\n",
    "          target_path = os.readlink(entry_path)\n",
    "          # 构建目标路径的绝对路径\n",
    "          target_absolute_path = os.path.join(source_directory, target_path)\n",
    "          # 获取目标路径的文件名或目录名\n",
    "          target_basename = os.path.basename(target_absolute_path)\n",
    "          # 构建目标文件或目录的路径\n",
    "          target_entry_path = os.path.join(target_directory, entry)\n",
    "\n",
    "          # 复制目标文件或目录到目标目录\n",
    "          if os.path.isdir(target_absolute_path):\n",
    "              shutil.copytree(target_absolute_path, target_entry_path)\n",
    "          else:\n",
    "              shutil.copy2(target_absolute_path, target_entry_path)\n",
    "      else:\n",
    "          # 如果不是符号链接，直接复制到目标目录\n",
    "          shutil.copy2(entry_path, os.path.join(target_directory, entry))"
   ]
  },
  {
   "cell_type": "code",
   "execution_count": 4,
   "metadata": {},
   "outputs": [],
   "source": [
    "def download_model(repo_id, dir_name):\n",
    "    # make a directory ./dir_name\n",
    "    if not os.path.exists(dir_name):\n",
    "        os.makedirs(dir_name)\n",
    "    source_directory = snapshot_download(repo_id=repo_id,cache_dir=dir_name, force_download =True, ignore_patterns=[\"*.safetensors\", \"model.safetensors.index.json\"])\n",
    "    print(\"文件路径:\",source_directory)\n",
    "    path_name = repo_id.split(\"/\")[1]\n",
    "    target_directory = f\"{os.getcwd()}/download/{path_name}\"\n",
    "    # 移动文件\n",
    "    os.system(f\"mkdir -p {target_directory}\")\n",
    "    os.system(f\"mkdir -p {os.getcwd()}/tar/{path_name}/\")\n",
    "    copy_data(source_directory,target_directory)"
   ]
  },
  {
   "cell_type": "code",
   "execution_count": 5,
   "metadata": {},
   "outputs": [
    {
     "data": {
      "application/vnd.jupyter.widget-view+json": {
       "model_id": "ad0ea4a295234f119e9db161bff6ecc5",
       "version_major": 2,
       "version_minor": 0
      },
      "text/plain": [
       "Fetching 5 files:   0%|          | 0/5 [00:00<?, ?it/s]"
      ]
     },
     "metadata": {},
     "output_type": "display_data"
    },
    {
     "data": {
      "application/vnd.jupyter.widget-view+json": {
       "model_id": "acd7068fd9b04f11aa179d4ee446854a",
       "version_major": 2,
       "version_minor": 0
      },
      "text/plain": [
       "Downloading .gitattributes:   0%|          | 0.00/1.34k [00:00<?, ?B/s]"
      ]
     },
     "metadata": {},
     "output_type": "display_data"
    },
    {
     "data": {
      "application/vnd.jupyter.widget-view+json": {
       "model_id": "e803220773bf4410ab5086b7617adae8",
       "version_major": 2,
       "version_minor": 0
      },
      "text/plain": [
       "Downloading vocab.txt:   0%|          | 0.00/187k [00:00<?, ?B/s]"
      ]
     },
     "metadata": {},
     "output_type": "display_data"
    },
    {
     "data": {
      "application/vnd.jupyter.widget-view+json": {
       "model_id": "be2c3402b5274ba09e293a25fdf978f4",
       "version_major": 2,
       "version_minor": 0
      },
      "text/plain": [
       "Downloading README.md:   0%|          | 0.00/1.28k [00:00<?, ?B/s]"
      ]
     },
     "metadata": {},
     "output_type": "display_data"
    },
    {
     "data": {
      "application/vnd.jupyter.widget-view+json": {
       "model_id": "f37bf9026eba4c49a7ecbf528eb82995",
       "version_major": 2,
       "version_minor": 0
      },
      "text/plain": [
       "Downloading config.json:   0%|          | 0.00/504 [00:00<?, ?B/s]"
      ]
     },
     "metadata": {},
     "output_type": "display_data"
    },
    {
     "data": {
      "application/vnd.jupyter.widget-view+json": {
       "model_id": "355ec00d870f47d2b9f4c718750583d8",
       "version_major": 2,
       "version_minor": 0
      },
      "text/plain": [
       "Downloading pytorch_model.bin:   0%|          | 0.00/474M [00:00<?, ?B/s]"
      ]
     },
     "metadata": {},
     "output_type": "display_data"
    },
    {
     "name": "stdout",
     "output_type": "stream",
     "text": [
      "文件路径: nghuyong/ernie-3.0-base-zh/models--nghuyong--ernie-3.0-base-zh/snapshots/8ad12310fa2e9668f9df5dd15e3857e374ab8147\n",
      "nghuyong/ernie-3.0-base-zh/models--nghuyong--ernie-3.0-base-zh/snapshots/8ad12310fa2e9668f9df5dd15e3857e374ab8147/.gitattributes\n",
      "nghuyong/ernie-3.0-base-zh/models--nghuyong--ernie-3.0-base-zh/snapshots/8ad12310fa2e9668f9df5dd15e3857e374ab8147/pytorch_model.bin\n",
      "nghuyong/ernie-3.0-base-zh/models--nghuyong--ernie-3.0-base-zh/snapshots/8ad12310fa2e9668f9df5dd15e3857e374ab8147/README.md\n",
      "nghuyong/ernie-3.0-base-zh/models--nghuyong--ernie-3.0-base-zh/snapshots/8ad12310fa2e9668f9df5dd15e3857e374ab8147/config.json\n",
      "nghuyong/ernie-3.0-base-zh/models--nghuyong--ernie-3.0-base-zh/snapshots/8ad12310fa2e9668f9df5dd15e3857e374ab8147/vocab.txt\n"
     ]
    }
   ],
   "source": [
    "repo_id = \"nghuyong/ernie-3.0-base-zh\"\n",
    "\n",
    "out_path = download_model(repo_id, \"nghuyong/ernie-3.0-base-zh\")"
   ]
  },
  {
   "cell_type": "code",
   "execution_count": 6,
   "metadata": {},
   "outputs": [
    {
     "name": "stdout",
     "output_type": "stream",
     "text": [
      "文件路径: /home/xuhongling/CCKS/nghuyong/ernie-3.0-base-zh/models--nghuyong--ernie-3.0-base-zh/snapshots/8ad12310fa2e9668f9df5dd15e3857e374ab8147\n",
      "/home/xuhongling/CCKS/nghuyong/ernie-3.0-base-zh/models--nghuyong--ernie-3.0-base-zh/snapshots/8ad12310fa2e9668f9df5dd15e3857e374ab8147/.gitattributes\n",
      "/home/xuhongling/CCKS/nghuyong/ernie-3.0-base-zh/models--nghuyong--ernie-3.0-base-zh/snapshots/8ad12310fa2e9668f9df5dd15e3857e374ab8147/pytorch_model.bin\n",
      "/home/xuhongling/CCKS/nghuyong/ernie-3.0-base-zh/models--nghuyong--ernie-3.0-base-zh/snapshots/8ad12310fa2e9668f9df5dd15e3857e374ab8147/README.md\n",
      "/home/xuhongling/CCKS/nghuyong/ernie-3.0-base-zh/models--nghuyong--ernie-3.0-base-zh/snapshots/8ad12310fa2e9668f9df5dd15e3857e374ab8147/config.json\n",
      "/home/xuhongling/CCKS/nghuyong/ernie-3.0-base-zh/models--nghuyong--ernie-3.0-base-zh/snapshots/8ad12310fa2e9668f9df5dd15e3857e374ab8147/vocab.txt\n"
     ]
    }
   ],
   "source": [
    "repo_id = \"nghuyong/ernie-3.0-base-zh\"\n",
    "source_directory = \"/home/xuhongling/CCKS/nghuyong/ernie-3.0-base-zh/models--nghuyong--ernie-3.0-base-zh/snapshots/8ad12310fa2e9668f9df5dd15e3857e374ab8147\"\n",
    "# source_directory = snapshot_download(repo_id=repo_id,cache_dir=dir_name, force_download =True, ignore_patterns=[\"*.safetensors\", \"model.safetensors.index.json\"])\n",
    "print(\"文件路径:\",source_directory)\n",
    "path_name = repo_id.replace(\"/\",\"---\")\n",
    "target_directory = f\"{os.getcwd()}/download/{path_name}\"\n",
    "# 移动文件\n",
    "os.system(f\"mkdir -p {target_directory}\")\n",
    "os.system(f\"mkdir -p {os.getcwd()}/tar/{path_name}/\")\n",
    "copy_data(source_directory,target_directory)"
   ]
  }
 ],
 "metadata": {
  "kernelspec": {
   "display_name": "nlp",
   "language": "python",
   "name": "python3"
  },
  "language_info": {
   "codemirror_mode": {
    "name": "ipython",
    "version": 3
   },
   "file_extension": ".py",
   "mimetype": "text/x-python",
   "name": "python",
   "nbconvert_exporter": "python",
   "pygments_lexer": "ipython3",
   "version": "3.9.15"
  }
 },
 "nbformat": 4,
 "nbformat_minor": 2
}
